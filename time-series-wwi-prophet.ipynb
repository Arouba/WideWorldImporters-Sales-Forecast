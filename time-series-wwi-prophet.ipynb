{
 "cells": [
  {
   "cell_type": "code",
   "execution_count": 131,
   "metadata": {},
   "outputs": [],
   "source": [
    "# Import libraries\n",
    "import warnings\n",
    "import itertools\n",
    "import pandas as pd\n",
    "import numpy as np\n",
    "import matplotlib.pyplot as plt\n",
    "import seaborn as sns\n",
    "import statsmodels.api as sm\n",
    "from prophet import Prophet\n",
    "\n",
    "\n",
    "import warnings\n",
    "warnings.filterwarnings('ignore')"
   ]
  },
  {
   "cell_type": "code",
   "execution_count": 132,
   "metadata": {},
   "outputs": [],
   "source": [
    "# Loading data\n",
    "data = pd.read_csv('Wide-World-Importers-Time-Series-prophet.csv')"
   ]
  },
  {
   "cell_type": "code",
   "execution_count": 133,
   "metadata": {},
   "outputs": [
    {
     "name": "stdout",
     "output_type": "stream",
     "text": [
      "<class 'pandas.core.frame.DataFrame'>\n",
      "RangeIndex: 1069 entries, 0 to 1068\n",
      "Data columns (total 2 columns):\n",
      " #   Column       Non-Null Count  Dtype\n",
      "---  ------       --------------  -----\n",
      " 0   Order Date   1069 non-null   int64\n",
      " 1   Total Sales  1069 non-null   int64\n",
      "dtypes: int64(2)\n",
      "memory usage: 16.8 KB\n"
     ]
    },
    {
     "data": {
      "text/plain": [
       "Order Date     int64\n",
       "Total Sales    int64\n",
       "dtype: object"
      ]
     },
     "execution_count": 133,
     "metadata": {},
     "output_type": "execute_result"
    }
   ],
   "source": [
    "# Checking data types and info\n",
    "data.info()\n",
    "data.dtypes"
   ]
  },
  {
   "cell_type": "code",
   "execution_count": 134,
   "metadata": {},
   "outputs": [
    {
     "data": {
      "text/html": [
       "<div>\n",
       "<style scoped>\n",
       "    .dataframe tbody tr th:only-of-type {\n",
       "        vertical-align: middle;\n",
       "    }\n",
       "\n",
       "    .dataframe tbody tr th {\n",
       "        vertical-align: top;\n",
       "    }\n",
       "\n",
       "    .dataframe thead th {\n",
       "        text-align: right;\n",
       "    }\n",
       "</style>\n",
       "<table border=\"1\" class=\"dataframe\">\n",
       "  <thead>\n",
       "    <tr style=\"text-align: right;\">\n",
       "      <th></th>\n",
       "      <th>Order Date</th>\n",
       "      <th>Total Sales</th>\n",
       "    </tr>\n",
       "  </thead>\n",
       "  <tbody>\n",
       "    <tr>\n",
       "      <th>0</th>\n",
       "      <td>20150101</td>\n",
       "      <td>185750</td>\n",
       "    </tr>\n",
       "    <tr>\n",
       "      <th>1</th>\n",
       "      <td>20150102</td>\n",
       "      <td>153874</td>\n",
       "    </tr>\n",
       "    <tr>\n",
       "      <th>2</th>\n",
       "      <td>20150103</td>\n",
       "      <td>197511</td>\n",
       "    </tr>\n",
       "    <tr>\n",
       "      <th>3</th>\n",
       "      <td>20150104</td>\n",
       "      <td>148053</td>\n",
       "    </tr>\n",
       "    <tr>\n",
       "      <th>4</th>\n",
       "      <td>20150105</td>\n",
       "      <td>129639</td>\n",
       "    </tr>\n",
       "    <tr>\n",
       "      <th>...</th>\n",
       "      <td>...</td>\n",
       "      <td>...</td>\n",
       "    </tr>\n",
       "    <tr>\n",
       "      <th>1064</th>\n",
       "      <td>20180526</td>\n",
       "      <td>342440</td>\n",
       "    </tr>\n",
       "    <tr>\n",
       "      <th>1065</th>\n",
       "      <td>20180527</td>\n",
       "      <td>285897</td>\n",
       "    </tr>\n",
       "    <tr>\n",
       "      <th>1066</th>\n",
       "      <td>20180528</td>\n",
       "      <td>122899</td>\n",
       "    </tr>\n",
       "    <tr>\n",
       "      <th>1067</th>\n",
       "      <td>20180530</td>\n",
       "      <td>213954</td>\n",
       "    </tr>\n",
       "    <tr>\n",
       "      <th>1068</th>\n",
       "      <td>20180531</td>\n",
       "      <td>346993</td>\n",
       "    </tr>\n",
       "  </tbody>\n",
       "</table>\n",
       "<p>1069 rows × 2 columns</p>\n",
       "</div>"
      ],
      "text/plain": [
       "      Order Date  Total Sales\n",
       "0       20150101       185750\n",
       "1       20150102       153874\n",
       "2       20150103       197511\n",
       "3       20150104       148053\n",
       "4       20150105       129639\n",
       "...          ...          ...\n",
       "1064    20180526       342440\n",
       "1065    20180527       285897\n",
       "1066    20180528       122899\n",
       "1067    20180530       213954\n",
       "1068    20180531       346993\n",
       "\n",
       "[1069 rows x 2 columns]"
      ]
     },
     "execution_count": 134,
     "metadata": {},
     "output_type": "execute_result"
    }
   ],
   "source": [
    "data"
   ]
  },
  {
   "cell_type": "code",
   "execution_count": 135,
   "metadata": {},
   "outputs": [],
   "source": [
    "df = data"
   ]
  },
  {
   "cell_type": "code",
   "execution_count": 136,
   "metadata": {},
   "outputs": [],
   "source": [
    "df['Year'] = df['Order Date'].apply(lambda x: str(x)[-8:-4])\n",
    "df['Month'] = df['Order Date'].apply(lambda x: str(x)[-4:-2])\n",
    "df['Day'] = df['Order Date'].apply(lambda x: str(x)[-2:])\n",
    "df['ds'] = pd.DatetimeIndex(df['Year'] +'-'+df['Month']+'-'+df['Day'])"
   ]
  },
  {
   "cell_type": "code",
   "execution_count": 137,
   "metadata": {},
   "outputs": [
    {
     "data": {
      "text/html": [
       "<div>\n",
       "<style scoped>\n",
       "    .dataframe tbody tr th:only-of-type {\n",
       "        vertical-align: middle;\n",
       "    }\n",
       "\n",
       "    .dataframe tbody tr th {\n",
       "        vertical-align: top;\n",
       "    }\n",
       "\n",
       "    .dataframe thead th {\n",
       "        text-align: right;\n",
       "    }\n",
       "</style>\n",
       "<table border=\"1\" class=\"dataframe\">\n",
       "  <thead>\n",
       "    <tr style=\"text-align: right;\">\n",
       "      <th></th>\n",
       "      <th>Order Date</th>\n",
       "      <th>Total Sales</th>\n",
       "      <th>Year</th>\n",
       "      <th>Month</th>\n",
       "      <th>Day</th>\n",
       "      <th>ds</th>\n",
       "    </tr>\n",
       "  </thead>\n",
       "  <tbody>\n",
       "    <tr>\n",
       "      <th>0</th>\n",
       "      <td>20150101</td>\n",
       "      <td>185750</td>\n",
       "      <td>2015</td>\n",
       "      <td>01</td>\n",
       "      <td>01</td>\n",
       "      <td>2015-01-01</td>\n",
       "    </tr>\n",
       "    <tr>\n",
       "      <th>1</th>\n",
       "      <td>20150102</td>\n",
       "      <td>153874</td>\n",
       "      <td>2015</td>\n",
       "      <td>01</td>\n",
       "      <td>02</td>\n",
       "      <td>2015-01-02</td>\n",
       "    </tr>\n",
       "  </tbody>\n",
       "</table>\n",
       "</div>"
      ],
      "text/plain": [
       "   Order Date  Total Sales  Year Month Day         ds\n",
       "0    20150101       185750  2015    01  01 2015-01-01\n",
       "1    20150102       153874  2015    01  02 2015-01-02"
      ]
     },
     "execution_count": 137,
     "metadata": {},
     "output_type": "execute_result"
    }
   ],
   "source": [
    "df.head(2)"
   ]
  },
  {
   "cell_type": "code",
   "execution_count": 138,
   "metadata": {},
   "outputs": [],
   "source": [
    "# Drop columns that are not needed inc. unique values, axis=1 is to drop the coloumns \n",
    "# inplace=True is for the same dataset (not creating another dataset)\n",
    "\n",
    "df.drop(['Order Date', 'Year', 'Month', 'Day'], axis=1, inplace=True)\n",
    "df.columns = 'y', 'ds'"
   ]
  },
  {
   "cell_type": "code",
   "execution_count": 139,
   "metadata": {},
   "outputs": [
    {
     "data": {
      "text/html": [
       "<div>\n",
       "<style scoped>\n",
       "    .dataframe tbody tr th:only-of-type {\n",
       "        vertical-align: middle;\n",
       "    }\n",
       "\n",
       "    .dataframe tbody tr th {\n",
       "        vertical-align: top;\n",
       "    }\n",
       "\n",
       "    .dataframe thead th {\n",
       "        text-align: right;\n",
       "    }\n",
       "</style>\n",
       "<table border=\"1\" class=\"dataframe\">\n",
       "  <thead>\n",
       "    <tr style=\"text-align: right;\">\n",
       "      <th></th>\n",
       "      <th>y</th>\n",
       "      <th>ds</th>\n",
       "    </tr>\n",
       "  </thead>\n",
       "  <tbody>\n",
       "    <tr>\n",
       "      <th>0</th>\n",
       "      <td>185750</td>\n",
       "      <td>2015-01-01</td>\n",
       "    </tr>\n",
       "    <tr>\n",
       "      <th>1</th>\n",
       "      <td>153874</td>\n",
       "      <td>2015-01-02</td>\n",
       "    </tr>\n",
       "  </tbody>\n",
       "</table>\n",
       "</div>"
      ],
      "text/plain": [
       "        y         ds\n",
       "0  185750 2015-01-01\n",
       "1  153874 2015-01-02"
      ]
     },
     "execution_count": 139,
     "metadata": {},
     "output_type": "execute_result"
    }
   ],
   "source": [
    "df.head(2)"
   ]
  },
  {
   "cell_type": "code",
   "execution_count": 140,
   "metadata": {},
   "outputs": [],
   "source": [
    "# Pre-processing\n",
    "df['ds']=pd.to_datetime(df['ds'], format='%Y-%m-%d')\n",
    "df.set_index(['ds'], inplace=True)\n"
   ]
  },
  {
   "cell_type": "code",
   "execution_count": 141,
   "metadata": {},
   "outputs": [
    {
     "data": {
      "text/plain": [
       "y    int64\n",
       "dtype: object"
      ]
     },
     "execution_count": 141,
     "metadata": {},
     "output_type": "execute_result"
    }
   ],
   "source": [
    "data.dtypes"
   ]
  },
  {
   "cell_type": "code",
   "execution_count": 142,
   "metadata": {},
   "outputs": [],
   "source": [
    "# Filling in nulls\n",
    "df.fillna(method='pad', inplace=True)\n"
   ]
  },
  {
   "cell_type": "code",
   "execution_count": 143,
   "metadata": {},
   "outputs": [],
   "source": [
    "# Resampling to fill in missing dates, M is turning it into months.\n",
    "df = df.resample(\"M\").sum()"
   ]
  },
  {
   "cell_type": "code",
   "execution_count": 144,
   "metadata": {},
   "outputs": [
    {
     "data": {
      "text/html": [
       "<div>\n",
       "<style scoped>\n",
       "    .dataframe tbody tr th:only-of-type {\n",
       "        vertical-align: middle;\n",
       "    }\n",
       "\n",
       "    .dataframe tbody tr th {\n",
       "        vertical-align: top;\n",
       "    }\n",
       "\n",
       "    .dataframe thead th {\n",
       "        text-align: right;\n",
       "    }\n",
       "</style>\n",
       "<table border=\"1\" class=\"dataframe\">\n",
       "  <thead>\n",
       "    <tr style=\"text-align: right;\">\n",
       "      <th></th>\n",
       "      <th>y</th>\n",
       "    </tr>\n",
       "    <tr>\n",
       "      <th>ds</th>\n",
       "      <th></th>\n",
       "    </tr>\n",
       "  </thead>\n",
       "  <tbody>\n",
       "    <tr>\n",
       "      <th>2015-01-31</th>\n",
       "      <td>5712967</td>\n",
       "    </tr>\n",
       "    <tr>\n",
       "      <th>2015-02-28</th>\n",
       "      <td>4179110</td>\n",
       "    </tr>\n",
       "    <tr>\n",
       "      <th>2015-03-31</th>\n",
       "      <td>5876868</td>\n",
       "    </tr>\n",
       "    <tr>\n",
       "      <th>2015-04-30</th>\n",
       "      <td>6154185</td>\n",
       "    </tr>\n",
       "    <tr>\n",
       "      <th>2015-05-31</th>\n",
       "      <td>6709101</td>\n",
       "    </tr>\n",
       "    <tr>\n",
       "      <th>2015-06-30</th>\n",
       "      <td>6136984</td>\n",
       "    </tr>\n",
       "    <tr>\n",
       "      <th>2015-07-31</th>\n",
       "      <td>6648934</td>\n",
       "    </tr>\n",
       "    <tr>\n",
       "      <th>2015-08-31</th>\n",
       "      <td>5268538</td>\n",
       "    </tr>\n",
       "    <tr>\n",
       "      <th>2015-09-30</th>\n",
       "      <td>5725387</td>\n",
       "    </tr>\n",
       "    <tr>\n",
       "      <th>2015-10-31</th>\n",
       "      <td>5675744</td>\n",
       "    </tr>\n",
       "  </tbody>\n",
       "</table>\n",
       "</div>"
      ],
      "text/plain": [
       "                  y\n",
       "ds                 \n",
       "2015-01-31  5712967\n",
       "2015-02-28  4179110\n",
       "2015-03-31  5876868\n",
       "2015-04-30  6154185\n",
       "2015-05-31  6709101\n",
       "2015-06-30  6136984\n",
       "2015-07-31  6648934\n",
       "2015-08-31  5268538\n",
       "2015-09-30  5725387\n",
       "2015-10-31  5675744"
      ]
     },
     "execution_count": 144,
     "metadata": {},
     "output_type": "execute_result"
    }
   ],
   "source": [
    "df.head(10)"
   ]
  },
  {
   "cell_type": "code",
   "execution_count": 145,
   "metadata": {},
   "outputs": [
    {
     "name": "stdout",
     "output_type": "stream",
     "text": [
      "           ds        y\n",
      "0  2015-01-31  5712967\n",
      "1  2015-02-28  4179110\n",
      "2  2015-03-31  5876868\n",
      "3  2015-04-30  6154185\n",
      "4  2015-05-31  6709101\n",
      "5  2015-06-30  6136984\n",
      "6  2015-07-31  6648934\n",
      "7  2015-08-31  5268538\n",
      "8  2015-09-30  5725387\n",
      "9  2015-10-31  5675744\n",
      "10 2015-11-30  5591657\n",
      "11 2015-12-31  5467396\n",
      "12 2016-01-31  6138144\n",
      "13 2016-02-29  5229061\n",
      "14 2016-03-31  5792559\n",
      "15 2016-04-30  6141586\n",
      "16 2016-05-31  6909163\n",
      "17 2016-06-30  6399739\n",
      "18 2016-07-31  7210185\n",
      "19 2016-08-31  6142918\n",
      "20 2016-09-30  5817312\n",
      "21 2016-10-31  6677888\n",
      "22 2016-11-30  6045603\n",
      "23 2016-12-31  6536223\n",
      "24 2017-01-31  6617169\n",
      "25 2017-02-28  6294784\n",
      "26 2017-03-31  6769654\n",
      "27 2017-04-30  7608887\n",
      "28 2017-05-31  6713191\n",
      "29 2017-06-30  6765247\n",
      "30 2017-07-31  7699630\n",
      "31 2017-08-31  5899025\n",
      "32 2017-09-30  6968552\n",
      "33 2017-10-31  6680094\n",
      "34 2017-11-30  6061147\n",
      "35 2017-12-31  6626268\n",
      "36 2018-01-31  6606015\n",
      "37 2018-02-28  5904877\n",
      "38 2018-03-31  6873249\n",
      "39 2018-04-30  6767988\n",
      "40 2018-05-31  7349006\n"
     ]
    }
   ],
   "source": [
    "df = df.groupby('ds')['y'].sum()\n",
    "# Print the output.\n",
    "md = df.reset_index()\n",
    "print(md)\n"
   ]
  },
  {
   "cell_type": "markdown",
   "metadata": {},
   "source": [
    "Prophet Model"
   ]
  },
  {
   "cell_type": "code",
   "execution_count": 146,
   "metadata": {},
   "outputs": [
    {
     "name": "stderr",
     "output_type": "stream",
     "text": [
      "INFO:prophet:Disabling weekly seasonality. Run prophet with weekly_seasonality=True to override this.\n",
      "INFO:prophet:Disabling daily seasonality. Run prophet with daily_seasonality=True to override this.\n"
     ]
    }
   ],
   "source": [
    "m = Prophet(interval_width=0.95)\n",
    "\n",
    "model = m.fit(md)"
   ]
  },
  {
   "cell_type": "code",
   "execution_count": 147,
   "metadata": {},
   "outputs": [
    {
     "data": {
      "text/html": [
       "<div>\n",
       "<style scoped>\n",
       "    .dataframe tbody tr th:only-of-type {\n",
       "        vertical-align: middle;\n",
       "    }\n",
       "\n",
       "    .dataframe tbody tr th {\n",
       "        vertical-align: top;\n",
       "    }\n",
       "\n",
       "    .dataframe thead th {\n",
       "        text-align: right;\n",
       "    }\n",
       "</style>\n",
       "<table border=\"1\" class=\"dataframe\">\n",
       "  <thead>\n",
       "    <tr style=\"text-align: right;\">\n",
       "      <th></th>\n",
       "      <th>ds</th>\n",
       "      <th>trend</th>\n",
       "      <th>yhat_lower</th>\n",
       "      <th>yhat_upper</th>\n",
       "      <th>trend_lower</th>\n",
       "      <th>trend_upper</th>\n",
       "      <th>additive_terms</th>\n",
       "      <th>additive_terms_lower</th>\n",
       "      <th>additive_terms_upper</th>\n",
       "      <th>yearly</th>\n",
       "      <th>yearly_lower</th>\n",
       "      <th>yearly_upper</th>\n",
       "      <th>multiplicative_terms</th>\n",
       "      <th>multiplicative_terms_lower</th>\n",
       "      <th>multiplicative_terms_upper</th>\n",
       "      <th>yhat</th>\n",
       "    </tr>\n",
       "  </thead>\n",
       "  <tbody>\n",
       "    <tr>\n",
       "      <th>0</th>\n",
       "      <td>2015-01-31</td>\n",
       "      <td>5.576017e+06</td>\n",
       "      <td>5.167606e+06</td>\n",
       "      <td>6.094017e+06</td>\n",
       "      <td>5.576017e+06</td>\n",
       "      <td>5.576017e+06</td>\n",
       "      <td>6.075449e+04</td>\n",
       "      <td>6.075449e+04</td>\n",
       "      <td>6.075449e+04</td>\n",
       "      <td>6.075449e+04</td>\n",
       "      <td>6.075449e+04</td>\n",
       "      <td>6.075449e+04</td>\n",
       "      <td>0.0</td>\n",
       "      <td>0.0</td>\n",
       "      <td>0.0</td>\n",
       "      <td>5.636771e+06</td>\n",
       "    </tr>\n",
       "    <tr>\n",
       "      <th>1</th>\n",
       "      <td>2015-02-28</td>\n",
       "      <td>5.615123e+06</td>\n",
       "      <td>4.000529e+06</td>\n",
       "      <td>4.909661e+06</td>\n",
       "      <td>5.615123e+06</td>\n",
       "      <td>5.615123e+06</td>\n",
       "      <td>-1.193702e+06</td>\n",
       "      <td>-1.193702e+06</td>\n",
       "      <td>-1.193702e+06</td>\n",
       "      <td>-1.193702e+06</td>\n",
       "      <td>-1.193702e+06</td>\n",
       "      <td>-1.193702e+06</td>\n",
       "      <td>0.0</td>\n",
       "      <td>0.0</td>\n",
       "      <td>0.0</td>\n",
       "      <td>4.421421e+06</td>\n",
       "    </tr>\n",
       "    <tr>\n",
       "      <th>2</th>\n",
       "      <td>2015-03-31</td>\n",
       "      <td>5.658420e+06</td>\n",
       "      <td>5.402029e+06</td>\n",
       "      <td>6.352489e+06</td>\n",
       "      <td>5.658420e+06</td>\n",
       "      <td>5.658420e+06</td>\n",
       "      <td>2.090186e+05</td>\n",
       "      <td>2.090186e+05</td>\n",
       "      <td>2.090186e+05</td>\n",
       "      <td>2.090186e+05</td>\n",
       "      <td>2.090186e+05</td>\n",
       "      <td>2.090186e+05</td>\n",
       "      <td>0.0</td>\n",
       "      <td>0.0</td>\n",
       "      <td>0.0</td>\n",
       "      <td>5.867438e+06</td>\n",
       "    </tr>\n",
       "    <tr>\n",
       "      <th>3</th>\n",
       "      <td>2015-04-30</td>\n",
       "      <td>5.700320e+06</td>\n",
       "      <td>5.523182e+06</td>\n",
       "      <td>6.467346e+06</td>\n",
       "      <td>5.700320e+06</td>\n",
       "      <td>5.700320e+06</td>\n",
       "      <td>2.938495e+05</td>\n",
       "      <td>2.938495e+05</td>\n",
       "      <td>2.938495e+05</td>\n",
       "      <td>2.938495e+05</td>\n",
       "      <td>2.938495e+05</td>\n",
       "      <td>2.938495e+05</td>\n",
       "      <td>0.0</td>\n",
       "      <td>0.0</td>\n",
       "      <td>0.0</td>\n",
       "      <td>5.994169e+06</td>\n",
       "    </tr>\n",
       "    <tr>\n",
       "      <th>4</th>\n",
       "      <td>2015-05-31</td>\n",
       "      <td>5.743616e+06</td>\n",
       "      <td>5.941142e+06</td>\n",
       "      <td>6.849191e+06</td>\n",
       "      <td>5.743616e+06</td>\n",
       "      <td>5.743616e+06</td>\n",
       "      <td>6.255961e+05</td>\n",
       "      <td>6.255961e+05</td>\n",
       "      <td>6.255961e+05</td>\n",
       "      <td>6.255961e+05</td>\n",
       "      <td>6.255961e+05</td>\n",
       "      <td>6.255961e+05</td>\n",
       "      <td>0.0</td>\n",
       "      <td>0.0</td>\n",
       "      <td>0.0</td>\n",
       "      <td>6.369212e+06</td>\n",
       "    </tr>\n",
       "  </tbody>\n",
       "</table>\n",
       "</div>"
      ],
      "text/plain": [
       "          ds         trend    yhat_lower    yhat_upper   trend_lower  \\\n",
       "0 2015-01-31  5.576017e+06  5.167606e+06  6.094017e+06  5.576017e+06   \n",
       "1 2015-02-28  5.615123e+06  4.000529e+06  4.909661e+06  5.615123e+06   \n",
       "2 2015-03-31  5.658420e+06  5.402029e+06  6.352489e+06  5.658420e+06   \n",
       "3 2015-04-30  5.700320e+06  5.523182e+06  6.467346e+06  5.700320e+06   \n",
       "4 2015-05-31  5.743616e+06  5.941142e+06  6.849191e+06  5.743616e+06   \n",
       "\n",
       "    trend_upper  additive_terms  additive_terms_lower  additive_terms_upper  \\\n",
       "0  5.576017e+06    6.075449e+04          6.075449e+04          6.075449e+04   \n",
       "1  5.615123e+06   -1.193702e+06         -1.193702e+06         -1.193702e+06   \n",
       "2  5.658420e+06    2.090186e+05          2.090186e+05          2.090186e+05   \n",
       "3  5.700320e+06    2.938495e+05          2.938495e+05          2.938495e+05   \n",
       "4  5.743616e+06    6.255961e+05          6.255961e+05          6.255961e+05   \n",
       "\n",
       "         yearly  yearly_lower  yearly_upper  multiplicative_terms  \\\n",
       "0  6.075449e+04  6.075449e+04  6.075449e+04                   0.0   \n",
       "1 -1.193702e+06 -1.193702e+06 -1.193702e+06                   0.0   \n",
       "2  2.090186e+05  2.090186e+05  2.090186e+05                   0.0   \n",
       "3  2.938495e+05  2.938495e+05  2.938495e+05                   0.0   \n",
       "4  6.255961e+05  6.255961e+05  6.255961e+05                   0.0   \n",
       "\n",
       "   multiplicative_terms_lower  multiplicative_terms_upper          yhat  \n",
       "0                         0.0                         0.0  5.636771e+06  \n",
       "1                         0.0                         0.0  4.421421e+06  \n",
       "2                         0.0                         0.0  5.867438e+06  \n",
       "3                         0.0                         0.0  5.994169e+06  \n",
       "4                         0.0                         0.0  6.369212e+06  "
      ]
     },
     "execution_count": 147,
     "metadata": {},
     "output_type": "execute_result"
    }
   ],
   "source": [
    "#Forecast - trends, lower and upper estimates, daily seasonality, yhat is the predicted forecast\n",
    "#periods you want to forecast for - up to 100. Frequency is by Month\n",
    "# second line forecasts forward\n",
    "\n",
    "future = m.make_future_dataframe(periods=20,freq='M')\n",
    "forecast = m.predict(future)\n",
    "forecast.head()"
   ]
  },
  {
   "cell_type": "code",
   "execution_count": 153,
   "metadata": {},
   "outputs": [
    {
     "name": "stderr",
     "output_type": "stream",
     "text": [
      "WARNING:matplotlib.legend:No handles with labels found to put in legend.\n"
     ]
    },
    {
     "data": {
      "image/png": "[encoded data removed]",
      "text/plain": [
       "<Figure size 720x432 with 1 Axes>"
      ]
     },
     "metadata": {},
     "output_type": "display_data"
    }
   ],
   "source": [
    "#Plot data, prophet model is stored in variable m\n",
    "\n",
    "\n",
    "plot1 = m.plot(forecast)\n",
    "plt.title('Monthly Sales')\n",
    "plt.ylabel('Total Sales')\n",
    "plt.xlabel('Date')\n",
    "plt.legend()\n",
    "plt.show()"
   ]
  },
  {
   "cell_type": "code",
   "execution_count": 149,
   "metadata": {},
   "outputs": [
    {
     "data": {
      "image/png": "[encoded data removed]",
      "text/plain": [
       "<Figure size 648x432 with 2 Axes>"
      ]
     },
     "metadata": {},
     "output_type": "display_data"
    }
   ],
   "source": [
    "#Decompose (B)\n",
    "\n",
    "plot2 = m.plot_components(forecast)"
   ]
  },
  {
   "cell_type": "code",
   "execution_count": 150,
   "metadata": {},
   "outputs": [
    {
     "data": {
      "text/html": [
       "<div>\n",
       "<style scoped>\n",
       "    .dataframe tbody tr th:only-of-type {\n",
       "        vertical-align: middle;\n",
       "    }\n",
       "\n",
       "    .dataframe tbody tr th {\n",
       "        vertical-align: top;\n",
       "    }\n",
       "\n",
       "    .dataframe thead th {\n",
       "        text-align: right;\n",
       "    }\n",
       "</style>\n",
       "<table border=\"1\" class=\"dataframe\">\n",
       "  <thead>\n",
       "    <tr style=\"text-align: right;\">\n",
       "      <th></th>\n",
       "      <th>ds</th>\n",
       "      <th>yhat</th>\n",
       "      <th>y</th>\n",
       "    </tr>\n",
       "  </thead>\n",
       "  <tbody>\n",
       "    <tr>\n",
       "      <th>0</th>\n",
       "      <td>2015-01-31</td>\n",
       "      <td>5.636771e+06</td>\n",
       "      <td>5712967.0</td>\n",
       "    </tr>\n",
       "    <tr>\n",
       "      <th>1</th>\n",
       "      <td>2015-02-28</td>\n",
       "      <td>4.421421e+06</td>\n",
       "      <td>4179110.0</td>\n",
       "    </tr>\n",
       "    <tr>\n",
       "      <th>2</th>\n",
       "      <td>2015-03-31</td>\n",
       "      <td>5.867438e+06</td>\n",
       "      <td>5876868.0</td>\n",
       "    </tr>\n",
       "    <tr>\n",
       "      <th>3</th>\n",
       "      <td>2015-04-30</td>\n",
       "      <td>5.994169e+06</td>\n",
       "      <td>6154185.0</td>\n",
       "    </tr>\n",
       "    <tr>\n",
       "      <th>4</th>\n",
       "      <td>2015-05-31</td>\n",
       "      <td>6.369212e+06</td>\n",
       "      <td>6709101.0</td>\n",
       "    </tr>\n",
       "    <tr>\n",
       "      <th>...</th>\n",
       "      <td>...</td>\n",
       "      <td>...</td>\n",
       "      <td>...</td>\n",
       "    </tr>\n",
       "    <tr>\n",
       "      <th>56</th>\n",
       "      <td>2019-09-30</td>\n",
       "      <td>7.080906e+06</td>\n",
       "      <td>NaN</td>\n",
       "    </tr>\n",
       "    <tr>\n",
       "      <th>57</th>\n",
       "      <td>2019-10-31</td>\n",
       "      <td>6.885207e+06</td>\n",
       "      <td>NaN</td>\n",
       "    </tr>\n",
       "    <tr>\n",
       "      <th>58</th>\n",
       "      <td>2019-11-30</td>\n",
       "      <td>6.773601e+06</td>\n",
       "      <td>NaN</td>\n",
       "    </tr>\n",
       "    <tr>\n",
       "      <th>59</th>\n",
       "      <td>2019-12-31</td>\n",
       "      <td>6.673567e+06</td>\n",
       "      <td>NaN</td>\n",
       "    </tr>\n",
       "    <tr>\n",
       "      <th>60</th>\n",
       "      <td>2020-01-31</td>\n",
       "      <td>7.264313e+06</td>\n",
       "      <td>NaN</td>\n",
       "    </tr>\n",
       "  </tbody>\n",
       "</table>\n",
       "<p>61 rows × 3 columns</p>\n",
       "</div>"
      ],
      "text/plain": [
       "           ds          yhat          y\n",
       "0  2015-01-31  5.636771e+06  5712967.0\n",
       "1  2015-02-28  4.421421e+06  4179110.0\n",
       "2  2015-03-31  5.867438e+06  5876868.0\n",
       "3  2015-04-30  5.994169e+06  6154185.0\n",
       "4  2015-05-31  6.369212e+06  6709101.0\n",
       "..        ...           ...        ...\n",
       "56 2019-09-30  7.080906e+06        NaN\n",
       "57 2019-10-31  6.885207e+06        NaN\n",
       "58 2019-11-30  6.773601e+06        NaN\n",
       "59 2019-12-31  6.673567e+06        NaN\n",
       "60 2020-01-31  7.264313e+06        NaN\n",
       "\n",
       "[61 rows x 3 columns]"
      ]
     },
     "execution_count": 150,
     "metadata": {},
     "output_type": "execute_result"
    }
   ],
   "source": [
    "#Ceate a metric dataframe that essentially joins the actual values from monthly_inc (y)\n",
    "#with the predicted values from the forecast table\n",
    "#using the common key 'ds'\n",
    "metric_df = forecast.set_index('ds')[['yhat']].join(md.set_index('ds').y).reset_index()\n",
    "metric_df"
   ]
  },
  {
   "cell_type": "code",
   "execution_count": 151,
   "metadata": {},
   "outputs": [],
   "source": [
    "#let's drop those predicted values and focus on how well the model has fit with historical data\n",
    "metric_df.dropna(inplace=True)"
   ]
  },
  {
   "cell_type": "code",
   "execution_count": 152,
   "metadata": {},
   "outputs": [
    {
     "name": "stdout",
     "output_type": "stream",
     "text": [
      "235621.34819937267\n"
     ]
    }
   ],
   "source": [
    "from sklearn.metrics import mean_squared_error\n",
    "from math import sqrt\n",
    "rmse_prophet = sqrt(mean_squared_error(metric_df.y, metric_df.yhat))\n",
    "print(rmse_prophet)"
   ]
  }
 ],
 "metadata": {
  "interpreter": {
   "hash": "aee8b7b246df8f9039afb4144a1f6fd8d2ca17a180786b69acc140d282b71a49"
  },
  "kernelspec": {
   "display_name": "Python 3.9.0 64-bit",
   "language": "python",
   "name": "python3"
  },
  "language_info": {
   "codemirror_mode": {
    "name": "ipython",
    "version": 3
   },
   "file_extension": ".py",
   "mimetype": "text/x-python",
   "name": "python",
   "nbconvert_exporter": "python",
   "pygments_lexer": "ipython3",
   "version": "3.9.1"
  },
  "orig_nbformat": 4
 },
 "nbformat": 4,
 "nbformat_minor": 2
}
